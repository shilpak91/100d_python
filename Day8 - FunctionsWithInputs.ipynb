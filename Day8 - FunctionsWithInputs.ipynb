{
 "cells": [
  {
   "cell_type": "code",
   "execution_count": null,
   "metadata": {},
   "outputs": [],
   "source": [
    "def greet():\n",
    "    print(\"Hello\")\n",
    "    print(\"Shilpak\")\n",
    "    print(\"Good Luck\")\n",
    "\n",
    "greet()"
   ]
  },
  {
   "cell_type": "code",
   "execution_count": null,
   "metadata": {},
   "outputs": [],
   "source": [
    "# Parameter = Defined while defining function\n",
    "# Argument = Value passed inside function while calling it \n",
    "\n",
    "def greet_with_name(name):\n",
    "    print(\"Hello\")\n",
    "    print(f\"{name}\")\n",
    "    print(\"Good Luck\")\n",
    "\n",
    "greet_with_name(\"Shilpak\")"
   ]
  },
  {
   "cell_type": "code",
   "execution_count": null,
   "metadata": {},
   "outputs": [],
   "source": [
    "# default way of calling a fuction takes positional argument\n",
    "# Key word argument , specifiy which key value pair\n",
    "\n",
    "def greet_with(name,location):\n",
    "    print(f\"Hello {name} at {location}\")\n",
    "\n",
    "greet_with(\"Shilpak\",\"NL\")\n",
    "greet_with(\"NL\",\"Shilpak\")\n",
    "\n",
    "greet_with(location=\"NL\",name=\"Shilpak\") # using key value , position does not matter in this case"
   ]
  },
  {
   "cell_type": "code",
   "execution_count": null,
   "metadata": {},
   "outputs": [],
   "source": [
    "# Area calculation\n",
    "\n",
    "import math\n",
    "\n",
    "test_h = int(input(\"Height of the wall: \"))\n",
    "test_w = int(input(\"Weight of the wall: \"))\n",
    "coverage = 5\n",
    "\n",
    "def paint_cal(height,weight):\n",
    "    num_cans = math.ceil(((height * weight) / coverage))\n",
    "    print(f\"You will need {num_cans} cans on paint\")\n",
    "\n",
    "paint_cal(height=test_h,weight=test_w)\n",
    "\n"
   ]
  },
  {
   "cell_type": "code",
   "execution_count": null,
   "metadata": {},
   "outputs": [],
   "source": [
    "# prime number , number divisible by 1 and itself\n",
    "\n",
    "n = int(input(\"Check this number: \"))\n",
    "\n",
    "def prime_checker(number):\n",
    "        is_prime = True\n",
    "        for i in (range(2,number)):\n",
    "                if number % i == 0:\n",
    "                        is_prime = False\n",
    "        if is_prime:\n",
    "                print(\"This is a prime number\")\n",
    "        else:\n",
    "                print(\"This is not a prime number\")\n",
    "\n",
    "prime_checker(n)\n"
   ]
  },
  {
   "cell_type": "code",
   "execution_count": 9,
   "metadata": {},
   "outputs": [
    {
     "name": "stdout",
     "output_type": "stream",
     "text": [
      "The decoded text is zulu\n"
     ]
    }
   ],
   "source": [
    "# Ceasar Cipher\n",
    "direction = input(\"Type 'encode' to encrypt, type 'decode' to decrypt:\").lower()\n",
    "text = input (\"Type your message:\")\n",
    "shift = int(input(\"Enter the shift\"))\n",
    "\n",
    "letters = ['a', 'b', 'c', 'd', 'e', 'f', 'g', 'h', 'i', 'j', 'k', 'l', 'm', 'n', 'o', 'p', 'q', 'r', 's', 't', 'u', 'v', 'w', 'x', 'y', 'z']\n",
    "\n",
    "\n",
    "def encrypt(user_text,user_shift):\n",
    "    encode_text = \"\"\n",
    "    for i in range(0,len(user_text)):\n",
    "        letter = user_text[i]\n",
    "        index_base_encode = letters.index(letter)\n",
    "        index_encode = index_base_encode + user_shift\n",
    "        if index_encode > 25:\n",
    "            index_encode = index_encode - 26\n",
    "        # print(f\"{index_base} : {letter}\")\n",
    "        # print(f\"{index_encode} : {letters[index_encode]}\")\n",
    "        encode_text += letters[index_encode]\n",
    "    print(f\"The encoded text is {encode_text}\")\n",
    "\n",
    "\n",
    "def decrypt(cipher_text,user_shift):\n",
    "    decode_text = \"\"\n",
    "    for i in range(0,len(cipher_text)):\n",
    "        letter = cipher_text[i]\n",
    "        index_base_decode = letters.index(letter)\n",
    "        index_decode = index_base_decode - user_shift   \n",
    "        # print(f\"{index_base} : {letter}\")\n",
    "        # print(f\"{index_encode} : {letters[index_encode]}\")\n",
    "        decode_text += letters[index_decode]\n",
    "    print(f\"The decoded text is {decode_text}\")\n",
    "\n",
    "if direction == \"encode\":\n",
    "    encrypt(user_text=text,user_shift=shift)\n",
    "elif direction == \"decode\":\n",
    "    decrypt(cipher_text=text,user_shift=shift)\n",
    "else:\n",
    "    print(\"User entered wrong input.\")\n"
   ]
  },
  {
   "cell_type": "code",
   "execution_count": 25,
   "metadata": {},
   "outputs": [
    {
     "name": "stdout",
     "output_type": "stream",
     "text": [
      "The encoded text is 012345678\n",
      "Goodbye!!\n"
     ]
    }
   ],
   "source": [
    "# Ceasar Cipher V2\n",
    "\n",
    "letters = ['a', 'b', 'c', 'd', 'e', 'f', 'g', 'h', 'i', 'j', 'k', 'l', 'm', 'n', 'o', 'p', 'q', 'r', 's', 't', 'u', 'v', 'w', 'x', 'y', 'z']\n",
    "continue_prog = \"yes\"\n",
    "\n",
    "def ceasar(user_text,user_shift,action):\n",
    "    if action == \"encode\":\n",
    "        encode_text = \"\"\n",
    "        for char in range(0,len(user_text)):\n",
    "            if char in letters:\n",
    "                letter = user_text[char]\n",
    "                index_base_encode = letters.index(letter)\n",
    "                index_encode = index_base_encode + user_shift\n",
    "                if index_encode > 25:\n",
    "                    index_encode = index_encode % 26\n",
    "                encode_text += letters[index_encode]\n",
    "            else:\n",
    "                encode_text += char\n",
    "        print(f\"The encoded text is {encode_text}\")\n",
    "\n",
    "    elif action == \"decode\":\n",
    "        decode_text = \"\"\n",
    "        for char in range(0,len(user_text)):\n",
    "            if char in letters:\n",
    "                letter = user_text[char]\n",
    "                index_base_decode = letters.index(letter)\n",
    "                index_decode = index_base_decode - user_shift   \n",
    "                decode_text += letters[index_decode]\n",
    "            else:\n",
    "                decode_text += char\n",
    "        print(f\"The decoded text is {decode_text}\")\n",
    "\n",
    "while continue_prog == 'yes':\n",
    "    direction = input(\"Type 'encode' to encrypt, type 'decode' to decrypt:\").lower()\n",
    "    text = input (\"Type your message:\")\n",
    "    shift = int(input(\"Enter the shift\"))\n",
    "    ceasar(user_text=text,user_shift=shift,action=direction)\n",
    "    continue_prog = input(\"Do you want to continue,'yes' or 'no'\").lower()\n",
    "    print(\"Goodbye!!\")\n",
    "\n"
   ]
  }
 ],
 "metadata": {
  "kernelspec": {
   "display_name": "Python 3",
   "language": "python",
   "name": "python3"
  },
  "language_info": {
   "codemirror_mode": {
    "name": "ipython",
    "version": 3
   },
   "file_extension": ".py",
   "mimetype": "text/x-python",
   "name": "python",
   "nbconvert_exporter": "python",
   "pygments_lexer": "ipython3",
   "version": "3.11.3"
  },
  "orig_nbformat": 4
 },
 "nbformat": 4,
 "nbformat_minor": 2
}
