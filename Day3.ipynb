{
 "cells": [
  {
   "cell_type": "code",
   "execution_count": 2,
   "metadata": {},
   "outputs": [
    {
     "name": "stdout",
     "output_type": "stream",
     "text": [
      "Its in odd number\n"
     ]
    }
   ],
   "source": [
    "number = int(input(\"Which number do you want to check\"))\n",
    "if number % 2 == 0:\n",
    "    print(\"Its an even number\")\n",
    "else:\n",
    "    print(\"Its an odd number\")"
   ]
  },
  {
   "cell_type": "code",
   "execution_count": 5,
   "metadata": {},
   "outputs": [
    {
     "name": "stdout",
     "output_type": "stream",
     "text": [
      "Your BMI is 28.09, you are overweight\n"
     ]
    }
   ],
   "source": [
    "height = float(input(\"enter your height in m: \"))\n",
    "weight = float(input(\"enter your weight in kg: \"))\n",
    "bmi = round((weight / (height**2)),2)\n",
    "\n",
    "if bmi < 18.5:\n",
    "    print(f\"Your BMI is {bmi}, you are underweight\")\n",
    "elif bmi > 18.5 and bmi < 25:\n",
    "    print(f\"Your BMI is {bmi}, you are normal weight\")\n",
    "elif bmi > 25 and bmi < 30:\n",
    "    print(f\"Your BMI is {bmi}, you are overweight\")\n",
    "elif bmi > 30 and bmi < 35:\n",
    "    print(f\"Your BMI is {bmi}, you are obese\")\n",
    "else:\n",
    "    print(f\"Your BMI is {bmi}, you are clinically obese\")"
   ]
  }
 ],
 "metadata": {
  "kernelspec": {
   "display_name": "Python 3",
   "language": "python",
   "name": "python3"
  },
  "language_info": {
   "codemirror_mode": {
    "name": "ipython",
    "version": 3
   },
   "file_extension": ".py",
   "mimetype": "text/x-python",
   "name": "python",
   "nbconvert_exporter": "python",
   "pygments_lexer": "ipython3",
   "version": "3.11.3"
  },
  "orig_nbformat": 4
 },
 "nbformat": 4,
 "nbformat_minor": 2
}
