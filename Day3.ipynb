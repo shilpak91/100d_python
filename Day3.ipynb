{
 "cells": [
  {
   "cell_type": "code",
   "execution_count": 2,
   "metadata": {},
   "outputs": [
    {
     "name": "stdout",
     "output_type": "stream",
     "text": [
      "Its in odd number\n"
     ]
    }
   ],
   "source": [
    "number = int(input(\"Which number do you want to check\"))\n",
    "if number % 2 == 0:\n",
    "    print(\"Its an even number\")\n",
    "else:\n",
    "    print(\"Its an odd number\")"
   ]
  },
  {
   "cell_type": "code",
   "execution_count": 5,
   "metadata": {},
   "outputs": [
    {
     "name": "stdout",
     "output_type": "stream",
     "text": [
      "Your BMI is 28.09, you are overweight\n"
     ]
    }
   ],
   "source": [
    "height = float(input(\"enter your height in m: \"))\n",
    "weight = float(input(\"enter your weight in kg: \"))\n",
    "bmi = round((weight / (height**2)),2)\n",
    "\n",
    "if bmi < 18.5:\n",
    "    print(f\"Your BMI is {bmi}, you are underweight\")\n",
    "elif bmi > 18.5 and bmi < 25:\n",
    "    print(f\"Your BMI is {bmi}, you are normal weight\")\n",
    "elif bmi > 25 and bmi < 30:\n",
    "    print(f\"Your BMI is {bmi}, you are overweight\")\n",
    "elif bmi > 30 and bmi < 35:\n",
    "    print(f\"Your BMI is {bmi}, you are obese\")\n",
    "else:\n",
    "    print(f\"Your BMI is {bmi}, you are clinically obese\")"
   ]
  },
  {
   "cell_type": "code",
   "execution_count": 2,
   "metadata": {},
   "outputs": [
    {
     "name": "stdout",
     "output_type": "stream",
     "text": [
      "This is a leap year\n"
     ]
    }
   ],
   "source": [
    "year = int(input(\"Which year do you want to check\"))\n",
    "if year % 4 == 0:\n",
    "    if year % 100 == 0:\n",
    "        if year % 400 == 0:\n",
    "            print(\"This is a leap year\")\n",
    "        else:\n",
    "            print(\"This is not a leap year\")\n",
    "    else:\n",
    "        print(\"This is a leap year\")\n",
    "else:\n",
    "    print(\"Not a leap year\")"
   ]
  },
  {
   "cell_type": "code",
   "execution_count": 4,
   "metadata": {},
   "outputs": [
    {
     "name": "stdout",
     "output_type": "stream",
     "text": [
      "Welcome to Pizza shop\n",
      "Your final bill is $ 24\n"
     ]
    }
   ],
   "source": [
    "print(\"Welcome to Pizza shop\")\n",
    "size = input(\"Want size of pizza do you want ? S, M, L\")\n",
    "add_pepp = input(\"Do you want to add extra pepperoni ? Y , N\")\n",
    "add_cheese = input(\"Do you want to add extra cheese ? Y , N\")\n",
    "small_pizza = 15\n",
    "medium_pizza = 20\n",
    "large_pizza = 25\n",
    "pepp_small = 2\n",
    "pepp_med_large = 3\n",
    "extra_cheese = 1\n",
    "bill = 0\n",
    "\n",
    "if size == \"L\" :\n",
    "    bill = large_pizza\n",
    "    if add_pepp == \"Y\":\n",
    "       bill += pepp_med_large\n",
    "    else:\n",
    "        bill += 0\n",
    "elif size == \"M\":\n",
    "    bill = medium_pizza\n",
    "    if add_pepp == \"Y\":\n",
    "       bill += pepp_med_large\n",
    "    else:\n",
    "        bill += 0\n",
    "else:\n",
    "    bill = small_pizza\n",
    "    if add_pepp == \"Y\":\n",
    "       bill += pepp_small\n",
    "    else:\n",
    "        bill += 0\n",
    "\n",
    "if (add_cheese == \"Y\"):\n",
    "    bill += 1\n",
    "else:\n",
    "    bill += 0\n",
    "\n",
    "print (f\"Your final bill is $ {bill}\")"
   ]
  }
 ],
 "metadata": {
  "kernelspec": {
   "display_name": "Python 3",
   "language": "python",
   "name": "python3"
  },
  "language_info": {
   "codemirror_mode": {
    "name": "ipython",
    "version": 3
   },
   "file_extension": ".py",
   "mimetype": "text/x-python",
   "name": "python",
   "nbconvert_exporter": "python",
   "pygments_lexer": "ipython3",
   "version": "3.11.3"
  },
  "orig_nbformat": 4
 },
 "nbformat": 4,
 "nbformat_minor": 2
}
