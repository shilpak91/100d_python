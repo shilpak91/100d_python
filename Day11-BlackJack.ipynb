{
 "cells": [
  {
   "attachments": {},
   "cell_type": "markdown",
   "metadata": {},
   "source": [
    "BlackJack \n",
    "1. Ask player to play the game\n",
    "2. If Yes then continue\n",
    "3. By default pick 2 cards for player and 2 cards for computer\n",
    "4. Show players card and score and show 1st computer card\n",
    "5. If player score is less than 21 then ask player if he wants to draw another card\n",
    "6. If computer score is less than 17 automatically draw one card for it\n",
    "7. If player says yes then draw 1 card else show player score and computer score and see who has highest score\n",
    "8. If player says yes and still the score is less than 21 , repeat step 5, 6, 7\n",
    "9. If player score or computer score is > 21 then player/computer loose \n",
    "10. Ace can be counted as 1 or 11 based on cards in hand , if score is less than 20 then 1 else 11"
   ]
  },
  {
   "cell_type": "code",
   "execution_count": 29,
   "metadata": {},
   "outputs": [
    {
     "name": "stdout",
     "output_type": "stream",
     "text": [
      "Your cards: [3, 11], current Score: 14\n",
      "Computer's first card : 6\n",
      "Your cards: [3, 11, 7], current Score: 21\n",
      "Computer's first card : 6\n",
      "Thank you for paying the game !!!\n"
     ]
    }
   ],
   "source": [
    "# Pending to check for win when score is 21\n",
    "\n",
    "cards = [11,2,3,4,5,6,7,8,9,10,10,10,10]\n",
    "game_end = False\n",
    "play_game = input(\"Do you want to play the game of BlackJack ? Type 'y' or 'n'\").lower()\n",
    "\n",
    "\n",
    "import random\n",
    "\n",
    "your_cards = []\n",
    "computer_cards = []\n",
    "your_no_cards = 0\n",
    "comp_no_cards = 0\n",
    "your_score = 0\n",
    "computer_score = 0\n",
    "\n",
    "\n",
    "\n",
    "while play_game == \"y\":\n",
    "\n",
    "    def get_your_cards():\n",
    "        your_cards.append(random.choice(cards))\n",
    "\n",
    "    def get_computer_cards():\n",
    "        computer_cards.append(random.choice(cards))\n",
    "\n",
    "    for n in range(0,2):\n",
    "        get_your_cards()\n",
    "        your_no_cards +=1\n",
    "        get_computer_cards()\n",
    "        comp_no_cards +=1\n",
    "\n",
    "    your_score = sum(your_cards)\n",
    "    computer_score = sum(computer_cards)\n",
    "    print(f\"Your cards: {your_cards}, current Score: {your_score}\")\n",
    "    print(f\"Computer's first card : {computer_cards[0]}\")\n",
    "\n",
    "    while not game_end:\n",
    "\n",
    "        if computer_score < 21:\n",
    "            if computer_score < 17:\n",
    "                get_computer_cards()\n",
    "                computer_score = sum(computer_cards)\n",
    "                if computer_score > 21:\n",
    "                    print(f\"\"\"\n",
    "                    You win !!! Computer score went over !!!\n",
    "                    Your final hand: {your_cards}, your final score: {your_score}\n",
    "                    Computer final hand: {computer_cards}, computer final score: {computer_score}\n",
    "                    \"\"\")\n",
    "\n",
    "        else:\n",
    "            print(f\"\"\"\n",
    "                    You win !!! Computer score went over !!!\n",
    "                    Your final hand: {your_cards}, your final score: {your_score}\n",
    "                    Computer final hand: {computer_cards}, computer final score: {computer_score}\n",
    "                    \"\"\")\n",
    "        game_end = True\n",
    "\n",
    "        if your_score < 21:\n",
    "            get_another_card = input(f\"Type 'y' to get another card or type 'n' to pass\").lower()\n",
    "            if get_another_card == 'y':\n",
    "                get_your_cards()\n",
    "                your_score = sum(your_cards)\n",
    "                if your_score > 26:\n",
    "                    print(f\"\"\"\n",
    "                    You Loose !!!\n",
    "                    Your score went over !!! \n",
    "                    Your final hand: {your_cards}, your final score: {your_score} \n",
    "                    Computer final hand: {computer_cards}, computer final score: {computer_score}\n",
    "                    \"\"\")\n",
    "                    game_end = True\n",
    "                else:\n",
    "                    print(f\"Your cards: {your_cards}, current Score: {your_score}\")\n",
    "                    print(f\"Computer's first card : {computer_cards[0]}\")\n",
    "            else:\n",
    "                if your_score > computer_score:\n",
    "                    print(f\"\"\"\n",
    "                    You win !!!\n",
    "                    Your final hand: {your_cards}, your final score: {your_score}\n",
    "                    Computer final hand: {computer_cards}, computer final score: {computer_score}\n",
    "                    \"\"\")\n",
    "                    game_end = True\n",
    "                else:\n",
    "                    print(f\"\"\"\n",
    "                    You Loose !!!\n",
    "                    Your final hand: {your_cards}, your final score: {your_score}\n",
    "                    Computer final hand: {computer_cards}, computer final score: {computer_score}\n",
    "                    \"\"\")\n",
    "                game_end = True\n",
    "    play_game = input(\"Do you want to play the game of BlackJack ? Type 'y' or 'n'\").lower()\n",
    "\n",
    "\n",
    "print(\"Thank you for paying the game !!!\")\n"
   ]
  },
  {
   "cell_type": "code",
   "execution_count": 22,
   "metadata": {},
   "outputs": [
    {
     "data": {
      "text/plain": [
       "int"
      ]
     },
     "execution_count": 22,
     "metadata": {},
     "output_type": "execute_result"
    }
   ],
   "source": [
    "cards = [11,2,3,4,5,6,7,8,9,10,10,10,10]\n",
    "score = sum(cards)\n",
    "type(score)"
   ]
  }
 ],
 "metadata": {
  "kernelspec": {
   "display_name": "Python 3",
   "language": "python",
   "name": "python3"
  },
  "language_info": {
   "codemirror_mode": {
    "name": "ipython",
    "version": 3
   },
   "file_extension": ".py",
   "mimetype": "text/x-python",
   "name": "python",
   "nbconvert_exporter": "python",
   "pygments_lexer": "ipython3",
   "version": "3.11.3"
  },
  "orig_nbformat": 4
 },
 "nbformat": 4,
 "nbformat_minor": 2
}
