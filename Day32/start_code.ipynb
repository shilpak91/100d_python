{
 "cells": [
  {
   "cell_type": "code",
   "execution_count": 18,
   "metadata": {},
   "outputs": [],
   "source": [
    "import smtplib\n",
    "\n",
    "my_email = \"shilpakraichpython@gmail.com\"\n",
    "my_password = \"cvraeiwsbakyhbdk\"\n",
    "\n",
    "with smtplib.SMTP(\"smtp.gmail.com\",port=587) as connection:\n",
    "    connection.starttls()\n",
    "    connection.login(user=my_email,password=my_password)\n",
    "    connection.sendmail(from_addr=my_email,\n",
    "                        to_addrs=\"shilpakraich91@gmail.com\",\n",
    "                        msg=\"Subject: Hello\\n\\n This is body of email\")\n",
    "\n"
   ]
  },
  {
   "cell_type": "code",
   "execution_count": 28,
   "metadata": {},
   "outputs": [
    {
     "name": "stdout",
     "output_type": "stream",
     "text": [
      "True\n"
     ]
    }
   ],
   "source": [
    "import datetime as dt\n",
    "\n",
    "now = dt.datetime.now()\n",
    "quote_day = 4\n",
    "# print(now.weekday())\n",
    "\n",
    "#create date time object\n",
    "date_of_birth = dt.datetime(year=1991,month=10,day=22)\n",
    "# print(date_of_birth)\n",
    "\n",
    "print(now.weekday()==quote_day)"
   ]
  },
  {
   "cell_type": "code",
   "execution_count": 29,
   "metadata": {},
   "outputs": [],
   "source": [
    "# Motivation Quote Project\n",
    "\n",
    "import datetime as dt\n",
    "import smtplib\n",
    "import random as rand\n",
    "\n",
    "my_email = \"shilpakraichpython@gmail.com\"\n",
    "my_password = \"cvraeiwsbakyhbdk\"\n",
    "quote_day = 4\n",
    "today = dt.datetime.now()\n",
    "\n",
    "with open(\"/Users/shilpak/Documents/Code100/100d_python/Day32/quotes.txt\") as quotes_file:\n",
    "    quotes = quotes_file.readlines()\n",
    "    \n",
    "motivation_quote = rand.choice(quotes)\n",
    "\n",
    "\n",
    "def send_email():\n",
    "\n",
    "    with smtplib.SMTP(\"smtp.gmail.com\",port=587) as connection:\n",
    "        connection.starttls()\n",
    "        connection.login(user=my_email,password=my_password)\n",
    "        connection.sendmail(from_addr=my_email,\n",
    "                            to_addrs=\"shilpakraich91@gmail.com\",\n",
    "                            msg=f\"Subject: Motivation Quote of the Week\\n\\n {motivation_quote}\")\n",
    "\n",
    "    \n",
    "if today.weekday()==quote_day:\n",
    "    send_email()\n",
    "    \n"
   ]
  }
 ],
 "metadata": {
  "kernelspec": {
   "display_name": "Python 3",
   "language": "python",
   "name": "python3"
  },
  "language_info": {
   "codemirror_mode": {
    "name": "ipython",
    "version": 3
   },
   "file_extension": ".py",
   "mimetype": "text/x-python",
   "name": "python",
   "nbconvert_exporter": "python",
   "pygments_lexer": "ipython3",
   "version": "3.11.3"
  },
  "orig_nbformat": 4
 },
 "nbformat": 4,
 "nbformat_minor": 2
}
