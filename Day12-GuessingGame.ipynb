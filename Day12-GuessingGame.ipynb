{
 "cells": [
  {
   "cell_type": "code",
   "execution_count": null,
   "metadata": {},
   "outputs": [],
   "source": [
    "# Guessing Game\n",
    "\n",
    "print(\"Welcome to the Number Guessing Game!!\")\n",
    "print(\"I am thinking of a number between 1 and 100.\")\n",
    "level = input(\"Choose a difficulty.Type 'easy' or 'hard'\").lower()\n",
    "\n",
    "print(f\"Choose a difficulty.Type 'easy' or 'hard' : {level}\")\n",
    "\n",
    "attempts = 0\n",
    "\n",
    "def level_selected(level):\n",
    "    if level == \"hard\":\n",
    "        print(\"You have 5 attempts remaining to guess the number\")\n",
    "        return 5\n",
    "    else:\n",
    "        print(\"You have 10 attempts remaining to guess the number\")\n",
    "        return 10\n",
    "\n",
    "attempts = level_selected(level)\n",
    "# print(attempts)\n",
    "\n",
    "import random\n",
    "\n",
    "computer_guess = random.randint(1,100)\n",
    "# print(f\"Computer Guess Number : {computer_guess}\")\n",
    "\n",
    "game_end = False\n",
    "\n",
    "def guess_game():\n",
    "    user_guess = int(input(\"Make a Guess\"))\n",
    "    print(f\"Make a Guess : {user_guess}\")\n",
    "    global attempts\n",
    "    if user_guess > computer_guess:\n",
    "        print(\"Too high\")\n",
    "        print(\"Guess again\")\n",
    "        attempts-= 1\n",
    "        print(f\"You have {attempts} remaining to guess a number.\")\n",
    "    elif user_guess < computer_guess:\n",
    "        print(\"Too Low\")\n",
    "        print(\"Guess again\")\n",
    "        attempts -=1\n",
    "        print(f\"You have {attempts} remaining to guess a number.\")\n",
    "    elif user_guess == computer_guess:\n",
    "        print(f\"You made a correct guess. Your Guess : {user_guess}. Computer Guess : {computer_guess}\")\n",
    "        print(\"Game end\")\n",
    "        return True\n",
    "    \n",
    "    if attempts == 0:\n",
    "        print(\"Game end!! You ran out of guesses!!\")\n",
    "        return True\n",
    "\n",
    "while not game_end:\n",
    "    game_end = guess_game()\n",
    "\n"
   ]
  }
 ],
 "metadata": {
  "kernelspec": {
   "display_name": "Python 3",
   "language": "python",
   "name": "python3"
  },
  "language_info": {
   "codemirror_mode": {
    "name": "ipython",
    "version": 3
   },
   "file_extension": ".py",
   "mimetype": "text/x-python",
   "name": "python",
   "nbconvert_exporter": "python",
   "pygments_lexer": "ipython3",
   "version": "3.11.3"
  },
  "orig_nbformat": 4
 },
 "nbformat": 4,
 "nbformat_minor": 2
}
