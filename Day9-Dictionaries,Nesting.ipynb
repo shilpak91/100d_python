{
 "cells": [
  {
   "cell_type": "code",
   "execution_count": null,
   "metadata": {},
   "outputs": [],
   "source": [
    "student_scores = {\"Harry\":81, \"Ron\":78,\"Hermione\":99,\"Draco\":74,\"Neville\":62}\n",
    "student_grades = {}\n",
    "for student in student_scores:\n",
    "    if student_scores[student] >=91:\n",
    "        student_grades[student] = \"Outstanding\"\n",
    "    elif student_scores[student] >=81:\n",
    "        student_grades[student] = \"Exceeds Expentation\"\n",
    "    elif student_scores[student] >=71:\n",
    "        student_grades[student] = \"Acceptable\"\n",
    "    elif student_scores[student] <=70:\n",
    "        student_grades[student] = \"Fail\"\n",
    "    \n",
    "print(student_grades)\n"
   ]
  },
  {
   "cell_type": "code",
   "execution_count": null,
   "metadata": {},
   "outputs": [],
   "source": [
    "travel_log = [\n",
    "{\n",
    "  \"country\": \"France\",\n",
    "  \"visits\": 12,\n",
    "  \"cities\": [\"Paris\", \"Lille\", \"Dijon\"]\n",
    "},\n",
    "{\n",
    "  \"country\": \"Germany\",\n",
    "  \"visits\": 5,\n",
    "  \"cities\": [\"Berlin\", \"Hamburg\", \"Stuttgart\"]\n",
    "},\n",
    "]\n",
    "\n",
    "\n",
    "def add_new_country(country_visited,times_visited,cities_visited):\n",
    "    new_country = {}\n",
    "    new_country[\"country\"] = country_visited\n",
    "    new_country[\"visits\"] = times_visited\n",
    "    new_country[\"cities\"] = cities_visited\n",
    "    # print(new_country)\n",
    "    travel_log.append(new_country)\n",
    "\n",
    "add_new_country(\"Russia\", 2, [\"Moscow\", \"Saint Petersburg\"])\n",
    "print(travel_log)"
   ]
  },
  {
   "cell_type": "code",
   "execution_count": null,
   "metadata": {},
   "outputs": [],
   "source": [
    "print(\"Welcome to the secret auction program.\")\n",
    "\n",
    "continue_prog = \"yes\"\n",
    "auction = {}\n",
    "\n",
    "while continue_prog == \"yes\":\n",
    "    name = input(\"What is your name?: \")\n",
    "    bid = int(input(\"What is your bid?: $\"))\n",
    "    auction[name] = bid\n",
    "    continue_prog = input(\"Do you have any more bidders ? Type 'yes' or 'no'\").lower()\n",
    "\n",
    "winner = ''\n",
    "highest_bid = 0\n",
    "\n",
    "# print(auction)\n",
    "\n",
    "for person in auction:\n",
    "    if highest_bid < auction[person]:\n",
    "        highest_bid = auction[person]\n",
    "        winner = person\n",
    "print(f\"The winner is {winner} with a bid of ${highest_bid}\")\n"
   ]
  }
 ],
 "metadata": {
  "kernelspec": {
   "display_name": "Python 3",
   "language": "python",
   "name": "python3"
  },
  "language_info": {
   "codemirror_mode": {
    "name": "ipython",
    "version": 3
   },
   "file_extension": ".py",
   "mimetype": "text/x-python",
   "name": "python",
   "nbconvert_exporter": "python",
   "pygments_lexer": "ipython3",
   "version": "3.11.3"
  },
  "orig_nbformat": 4
 },
 "nbformat": 4,
 "nbformat_minor": 2
}
