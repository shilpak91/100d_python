{
 "cells": [
  {
   "cell_type": "code",
   "execution_count": 1,
   "metadata": {},
   "outputs": [],
   "source": [
    "import turtle\n",
    "\n",
    "jimmy = turtle.Turtle()\n",
    "my_screen = turtle.Screen()\n",
    "\n",
    "jimmy.shape(\"turtle\")\n",
    "jimmy.color(\"coral\")\n",
    "jimmy.forward(100)\n",
    "my_screen.exitonclick()"
   ]
  },
  {
   "cell_type": "code",
   "execution_count": 5,
   "metadata": {},
   "outputs": [
    {
     "name": "stdout",
     "output_type": "stream",
     "text": [
      "+--------------+----------+\n",
      "| Pokemon Name | Type     |\n",
      "+--------------+----------+\n",
      "| Pikachu      | Electric |\n",
      "| Squirtle     | Water    |\n",
      "| Charmander   | Fire     |\n",
      "+--------------+----------+\n"
     ]
    }
   ],
   "source": [
    "import prettytable as pt\n",
    "\n",
    "table = pt.PrettyTable()\n",
    "table.add_column(\"Pokemon Name\",[\"Pikachu\",\"Squirtle\",\"Charmander\"])\n",
    "table.add_column(\"Type\",[\"Electric\",\"Water\",\"Fire\"])\n",
    "table.align = \"l\"\n",
    "\n",
    "print(table)\n",
    "\n",
    "\n",
    "# Package > Class > Method > Attribute\n",
    "# Call a Class to a assign object to a variable \n",
    "# Call methods on object (Call functions present in a class)\n",
    "# Calling and modifing attributes/variables in a class which we assigned to a object\n"
   ]
  },
  {
   "cell_type": "code",
   "execution_count": null,
   "metadata": {},
   "outputs": [],
   "source": []
  }
 ],
 "metadata": {
  "kernelspec": {
   "display_name": "Python 3",
   "language": "python",
   "name": "python3"
  },
  "language_info": {
   "codemirror_mode": {
    "name": "ipython",
    "version": 3
   },
   "file_extension": ".py",
   "mimetype": "text/x-python",
   "name": "python",
   "nbconvert_exporter": "python",
   "pygments_lexer": "ipython3",
   "version": "3.11.3"
  },
  "orig_nbformat": 4
 },
 "nbformat": 4,
 "nbformat_minor": 2
}
