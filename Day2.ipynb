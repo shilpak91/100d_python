{
 "cells": [
  {
   "attachments": {},
   "cell_type": "markdown",
   "metadata": {},
   "source": [
    "Topics. Working with number and converting data types etc. \n",
    "Data types : Strings, Integers, Large integers, Float, boolean\n",
    "Subscripting - Extract information from datatype using indexes.\n",
    "Project : Tip calculator.\n",
    "\n",
    "Large Integers - example : 123_456_000 , Python removes the _ while computing. Its have large number with , as seperation.\n",
    "\n",
    "type() -  Check data type"
   ]
  },
  {
   "cell_type": "code",
   "execution_count": null,
   "metadata": {},
   "outputs": [],
   "source": [
    "num = input(print(\"Enter 2 digit number\"))\n",
    "print(f\"You entered {num}\")\n",
    "num1 = int(num[0])\n",
    "num2 = int(num[1])\n",
    "print(f\"Addition of 2 digit is {num1 + num2}\")"
   ]
  },
  {
   "attachments": {},
   "cell_type": "markdown",
   "metadata": {},
   "source": [
    "2 to the power of 3 is written as 2**3  = 8\n",
    "PEMDAS - Pranthesis , Exponential , multiplication , division , addition and substraction\n",
    "multiplication and division is on same level while calculating it goes from left to right\n",
    "// - floor division , gives interger instead of float"
   ]
  },
  {
   "cell_type": "code",
   "execution_count": null,
   "metadata": {},
   "outputs": [],
   "source": [
    "height= float(input(\"enter your height in m:\"))\n",
    "weight = float(input(\"enter your weight in kg:\"))\n",
    "bmi = int(weight/ (height**2))\n",
    "print(f\"enter your height in m: {height}\")\n",
    "print(f\"enter your weight in kg: {weight}\")\n",
    "print(f\"your bmi is {bmi}\")"
   ]
  },
  {
   "cell_type": "code",
   "execution_count": null,
   "metadata": {},
   "outputs": [],
   "source": [
    "age = int(input(\"what is your age ?\"))\n",
    "print(f\"what is your age ? {age}\")\n",
    "total_years = 90\n",
    "total_months = 90 * 12\n",
    "total_weeks = 52 * 90\n",
    "total_days = 365 * 90\n",
    "months_left = total_months - (age * 12)\n",
    "weeks_left = total_weeks - (age * 52)\n",
    "days_left = total_days - (age * 365)\n",
    "print(f\"You have {days_left} days , {weeks_left} weeks and {months_left} months left.\")"
   ]
  },
  {
   "cell_type": "code",
   "execution_count": null,
   "metadata": {},
   "outputs": [],
   "source": [
    "print(\"Welcome to the tip calculator.\")\n",
    "bill = float(input(\"What was the total bill ?\"))\n",
    "print(f\"What was the total bill : {bill}\")\n",
    "tip = int(input (\"What percerntage tip would you like to give ? 10, 12 or 15\"))\n",
    "print(f\"What percerntage tip would you like to give ? 10, 12 or 15 : {tip}\")\n",
    "total_bill = bill + (bill * (tip/100))\n",
    "print(f\"Tip in terms of money is ${bill * (tip/100)}\")\n",
    "print(f\"Total bill is ${total_bill}\")\n",
    "people = int(input(\"How many people to split the bill ?\"))\n",
    "print(f\"How many people to split the bill ? : {people}\")\n",
    "split = round((total_bill/people),2)\n",
    "print(f\"Each person should pay : ${split}\")"
   ]
  }
 ],
 "metadata": {
  "kernelspec": {
   "display_name": "Python 3",
   "language": "python",
   "name": "python3"
  },
  "language_info": {
   "codemirror_mode": {
    "name": "ipython",
    "version": 3
   },
   "file_extension": ".py",
   "mimetype": "text/x-python",
   "name": "python",
   "nbconvert_exporter": "python",
   "pygments_lexer": "ipython3",
   "version": "3.11.3"
  },
  "orig_nbformat": 4
 },
 "nbformat": 4,
 "nbformat_minor": 2
}
