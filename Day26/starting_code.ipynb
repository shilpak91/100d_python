{
 "cells": [
  {
   "cell_type": "code",
   "execution_count": 2,
   "metadata": {},
   "outputs": [
    {
     "name": "stdout",
     "output_type": "stream",
     "text": [
      "[2, 3, 4, 5]\n",
      "[2, 3, 4, 5]\n"
     ]
    }
   ],
   "source": [
    "# List comprehension\n",
    "numbers = [1,2,3,4] \n",
    "\n",
    "# Old way of updating a list\n",
    "\n",
    "new_numbers = []\n",
    "for n in numbers:\n",
    "    new_numbers.append(n+1)\n",
    "\n",
    "print(new_numbers)\n",
    "\n",
    "# new_numbers = [new_item for item in list]\n",
    "new_numbers = [n+1 for n in numbers]\n",
    "print(new_numbers)\n"
   ]
  },
  {
   "cell_type": "code",
   "execution_count": 3,
   "metadata": {},
   "outputs": [
    {
     "name": "stdout",
     "output_type": "stream",
     "text": [
      "['S', 'h', 'i', 'l', 'p', 'a', 'k']\n"
     ]
    }
   ],
   "source": [
    "name = \"Shilpak\"\n",
    "letters_list = [letter for letter in name]\n",
    "print(letters_list)"
   ]
  },
  {
   "cell_type": "code",
   "execution_count": 4,
   "metadata": {},
   "outputs": [
    {
     "name": "stdout",
     "output_type": "stream",
     "text": [
      "[2, 4, 6, 8]\n"
     ]
    }
   ],
   "source": [
    "range_list = [num *2 for num in range(1,5)]\n",
    "print(range_list)"
   ]
  },
  {
   "cell_type": "code",
   "execution_count": 5,
   "metadata": {},
   "outputs": [
    {
     "name": "stdout",
     "output_type": "stream",
     "text": [
      "['CAROLINE', 'ELEANOR', 'FREDDIE']\n"
     ]
    }
   ],
   "source": [
    "names = ['Alex','Beth','Caroline','Dave','Eleanor','Freddie']\n",
    "caps_names = [name.upper() for name in names if len(name)>5]\n",
    "print(caps_names)"
   ]
  },
  {
   "cell_type": "code",
   "execution_count": 7,
   "metadata": {},
   "outputs": [
    {
     "name": "stdout",
     "output_type": "stream",
     "text": [
      "[1, 1, 4, 9, 25, 64, 169, 441, 1156, 3025]\n"
     ]
    }
   ],
   "source": [
    "numbers = [1,1,2,3,5,8,13,21,34,55]\n",
    "sq_numbers = [num ** 2 for num in numbers]\n",
    "print(sq_numbers)"
   ]
  },
  {
   "cell_type": "code",
   "execution_count": 8,
   "metadata": {},
   "outputs": [
    {
     "name": "stdout",
     "output_type": "stream",
     "text": [
      "[2, 8, 34]\n"
     ]
    }
   ],
   "source": [
    "numbers = [1,1,2,3,5,8,13,21,34,55]\n",
    "result = [num for num in numbers if num%2==0]\n",
    "print(result)"
   ]
  },
  {
   "cell_type": "code",
   "execution_count": 20,
   "metadata": {},
   "outputs": [
    {
     "name": "stdout",
     "output_type": "stream",
     "text": [
      "[3, 6, 5, 8, 33, 12, 7, 4, 72, 2, 42, 13]\n",
      "[3, 6, 13, 5, 7, 89, 12, 3, 33, 34, 1, 344, 42]\n",
      "[3, 6, 5, 33, 12, 7, 42, 13]\n"
     ]
    }
   ],
   "source": [
    "import os\n",
    "with open(\"/Users/shilpak/Documents/Code100/100d_python/Day26/file1.txt\") as f:\n",
    "    file1 = f.readlines()\n",
    "    file1 = [int(l.rstrip('\\n')) for l in file1]\n",
    "\n",
    "with open(\"/Users/shilpak/Documents/Code100/100d_python/Day26/file2.txt\") as f:\n",
    "    file2 = f.readlines()\n",
    "    file2 = [int(l.rstrip('\\n')) for l in file2]\n",
    "\n",
    "print(file1)\n",
    "print(file2)\n",
    "\n",
    "result = [num for num in file1 if num in file2]\n",
    "print(result)\n"
   ]
  },
  {
   "cell_type": "code",
   "execution_count": 5,
   "metadata": {},
   "outputs": [
    {
     "name": "stdout",
     "output_type": "stream",
     "text": [
      "{'Alex': 44, 'Beth': 19, 'Caroline': 54, 'Dave': 77, 'Eleanor': 98, 'Freddie': 25}\n",
      "<class 'dict_items'>\n",
      "{'Dave': 77, 'Eleanor': 98}\n"
     ]
    }
   ],
   "source": [
    "import random\n",
    "names = ['Alex','Beth','Caroline','Dave','Eleanor','Freddie']\n",
    "# student_score ={new_key:new_value for item in list}\n",
    "\n",
    "student_score ={student:random.randint(1,100) for student in names}\n",
    "print(student_score)\n",
    "# print(student_score.items())\n",
    "# print(type(student_score.items()))\n",
    "\n",
    "\n",
    "# passed_student = {new_key:new_value for (key,value) in dict if condition}\n",
    "passed_student = {student:score for (student,score) in student_score.items() if score >= 60}\n",
    "print(passed_student)"
   ]
  },
  {
   "cell_type": "code",
   "execution_count": 8,
   "metadata": {},
   "outputs": [
    {
     "name": "stdout",
     "output_type": "stream",
     "text": [
      "{'What': 4, 'is': 2, 'the': 3, 'Airspeed': 8, 'Velocity': 8, 'of': 2, 'an': 2, 'Unladen': 7, 'Swallow?': 8}\n"
     ]
    }
   ],
   "source": [
    "sentence = \"What is the Airspeed Velocity of an Unladen Swallow?\"\n",
    "# Don't change code above 👆\n",
    "\n",
    "# Write your code below:\n",
    "sentence_list = sentence.split()\n",
    "\n",
    "result = {word:len(word) for word in sentence_list}\n",
    "\n",
    "print(result)"
   ]
  },
  {
   "cell_type": "code",
   "execution_count": 10,
   "metadata": {},
   "outputs": [
    {
     "name": "stdout",
     "output_type": "stream",
     "text": [
      "{'Monday': 53.6, 'Tuesday': 57.2, 'Wednesday': 59.0, 'Thursday': 57.2, 'Friday': 69.8, 'Saturday': 71.6, 'Sunday': 75.2}\n"
     ]
    }
   ],
   "source": [
    "weather_c = {\n",
    "    \"Monday\": 12,\n",
    "    \"Tuesday\": 14,\n",
    "    \"Wednesday\": 15,\n",
    "    \"Thursday\": 14,\n",
    "    \"Friday\": 21,\n",
    "    \"Saturday\": 22,\n",
    "    \"Sunday\": 24,\n",
    "}\n",
    "# 🚨 Don't change code above 👆\n",
    "\n",
    "\n",
    "# Write your code 👇 below:\n",
    "\n",
    "weather_f = {day:((temp * 9/5) + 32) for (day,temp) in weather_c.items()}\n",
    "\n",
    "print(weather_f)"
   ]
  }
 ],
 "metadata": {
  "kernelspec": {
   "display_name": "Python 3",
   "language": "python",
   "name": "python3"
  },
  "language_info": {
   "codemirror_mode": {
    "name": "ipython",
    "version": 3
   },
   "file_extension": ".py",
   "mimetype": "text/x-python",
   "name": "python",
   "nbconvert_exporter": "python",
   "pygments_lexer": "ipython3",
   "version": "3.11.3"
  },
  "orig_nbformat": 4
 },
 "nbformat": 4,
 "nbformat_minor": 2
}
