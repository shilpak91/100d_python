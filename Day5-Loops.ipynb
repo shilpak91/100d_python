{
 "cells": [
  {
   "cell_type": "code",
   "execution_count": 14,
   "metadata": {},
   "outputs": [
    {
     "name": "stdout",
     "output_type": "stream",
     "text": [
      "['156', '178', '165', '171', '187']\n",
      "171\n"
     ]
    }
   ],
   "source": [
    "student_heights = input(\"Please enter students height\").split()\n",
    "print(student_heights)\n",
    "# print(len(student_heights))\n",
    "total_height=0\n",
    "for n in range(0,len(student_heights)):\n",
    "    # print(int(student_heights[n]))\n",
    "    total_height +=  int(student_heights[n])\n",
    "print(round(total_height/(len(student_heights))))\n"
   ]
  },
  {
   "cell_type": "code",
   "execution_count": 26,
   "metadata": {},
   "outputs": [
    {
     "name": "stdout",
     "output_type": "stream",
     "text": [
      "['156', '178', '165', '171', '187']\n",
      "171\n"
     ]
    }
   ],
   "source": [
    "student_heights = input(\"Please enter students height\").split()\n",
    "print(student_heights)\n",
    "for n in range(0,len(student_heights)):\n",
    "    student_heights[n] = int(student_heights[n])\n",
    "# print(len(student_heights))\n",
    "total_height=sum(student_heights)\n",
    "#print(total_height)\n",
    "print(round(total_height/len(student_heights)))"
   ]
  }
 ],
 "metadata": {
  "kernelspec": {
   "display_name": "Python 3",
   "language": "python",
   "name": "python3"
  },
  "language_info": {
   "codemirror_mode": {
    "name": "ipython",
    "version": 3
   },
   "file_extension": ".py",
   "mimetype": "text/x-python",
   "name": "python",
   "nbconvert_exporter": "python",
   "pygments_lexer": "ipython3",
   "version": "3.11.3"
  },
  "orig_nbformat": 4
 },
 "nbformat": 4,
 "nbformat_minor": 2
}
