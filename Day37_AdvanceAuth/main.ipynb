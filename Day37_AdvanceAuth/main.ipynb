{
 "cells": [
  {
   "cell_type": "code",
   "execution_count": 11,
   "metadata": {},
   "outputs": [
    {
     "name": "stdout",
     "output_type": "stream",
     "text": [
      "{\"message\":\"Success.\",\"isSuccess\":true}\n"
     ]
    }
   ],
   "source": [
    "import requests\n",
    "import datetime as dt\n",
    "\n",
    "pixela_endpoint = \"https://pixe.la/v1/users\"\n",
    "USERNAME = \"shankita100\"\n",
    "TOKEN = \"akdhaakjh12354jkd\"\n",
    "GRAPHID = \"graph1\"\n",
    "\n",
    "user_params = {\n",
    "    \"token\" : TOKEN,\n",
    "    \"username\" : USERNAME,\n",
    "    \"agreeTermsOfService\" : \"yes\",\n",
    "    \"notMinor\" : \"yes\"\n",
    "}\n",
    "\n",
    "# response = requests.post(url=pixela_endpoint,json=user_params)\n",
    "# print(response.text)\n",
    "\n",
    "graph_endpoint = f\"{pixela_endpoint}/{USERNAME}/graphs\"\n",
    "\n",
    "graph_config = {\"id\" : GRAPHID,\n",
    "                \"name\" : \"Running Graph\",\n",
    "                \"unit\" : \"Km\",\n",
    "                \"type\" : \"float\",\n",
    "                \"color\" : \"ajisai\"}\n",
    "\n",
    "headers = {\n",
    "    \"X-USER-TOKEN\" : TOKEN}\n",
    "\n",
    "# response = requests.post(url=graph_endpoint,json=graph_config,headers=headers)\n",
    "# print(response.text)\n",
    "# https://pixe.la/v1/users/shankita100/graphs/graph1.html\n",
    "\n",
    "today = dt.datetime.now()\n",
    "formated_date = today.strftime(\"%Y%m%d\")\n",
    "\n",
    "\n",
    "pixel_endpoint = f\"{pixela_endpoint}/{USERNAME}/graphs/{GRAPHID}\"\n",
    "pixel_config = {\n",
    "    \"date\" : formated_date,\n",
    "    \"quantity\" : \"5.0\"}\n",
    "\n",
    "# response = requests.post(url=pixel_endpoint,json=pixel_config,headers=headers)\n",
    "# print(response.text)\n",
    "\n",
    "# Update\n",
    "pixel_update_endpoint = f\"{pixela_endpoint}/{USERNAME}/graphs/{GRAPHID}/{formated_date}\"\n",
    "pixel_update_config = {\"quantity\" : \"6.0\"}\n",
    "\n",
    "# response = requests.put(url=pixel_update_endpoint,json=pixel_update_config,headers=headers)\n",
    "# print(response.text)\n",
    "\n",
    "# Delete\n",
    "response = requests.delete(url=pixel_update_endpoint,headers=headers)\n",
    "print(response.text)\n",
    "\n"
   ]
  }
 ],
 "metadata": {
  "kernelspec": {
   "display_name": "Python 3",
   "language": "python",
   "name": "python3"
  },
  "language_info": {
   "codemirror_mode": {
    "name": "ipython",
    "version": 3
   },
   "file_extension": ".py",
   "mimetype": "text/x-python",
   "name": "python",
   "nbconvert_exporter": "python",
   "pygments_lexer": "ipython3",
   "version": "3.11.3"
  },
  "orig_nbformat": 4
 },
 "nbformat": 4,
 "nbformat_minor": 2
}
