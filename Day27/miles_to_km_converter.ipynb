{
 "cells": [
  {
   "cell_type": "code",
   "execution_count": 6,
   "metadata": {},
   "outputs": [],
   "source": [
    "from tkinter import *\n",
    "\n",
    "\n",
    "\n",
    "window = Tk()\n",
    "window.title(\"Mile to Km Converter\")\n",
    "window.minsize(width=150,height=50)\n",
    "window.config(padx= 50,pady=50)\n",
    "\n",
    "# Label\n",
    "\n",
    "miles_label = Label(text=\"Miles\",font=(\"Arial\",12,\"normal\"))\n",
    "miles_label.grid(column=2,row=0)\n",
    "\n",
    "km_label = Label(text=\"Km\",font=(\"Arial\",12,\"normal\"))\n",
    "km_label.grid(column=2,row=1)\n",
    "\n",
    "equal_label = Label(text=\"is equal to\",font=(\"Arial\",12,\"normal\"))\n",
    "equal_label.grid(column=0,row=1)\n",
    "\n",
    "# Button\n",
    "\n",
    "def button_clicked():\n",
    "    miles = float(miles_input.get())\n",
    "    km = miles * 1.609\n",
    "    km_output.config(text=f\"{km}\")\n",
    "    \n",
    "\n",
    "calculate_button = Button(text = \"Calculate\",command=button_clicked)\n",
    "calculate_button.grid(column=1,row=2)\n",
    "\n",
    "# Entry Class\n",
    "\n",
    "miles_input = Entry(width=10)\n",
    "miles_input.grid(column=1,row=0)\n",
    "miles_input.insert(END, string=\"0\")\n",
    "\n",
    "km_output = Label(text=\"0\",font=(\"Arial\",12,\"normal\"))\n",
    "km_output.grid(column=1,row=1)\n",
    "\n",
    "\n",
    "window.mainloop()"
   ]
  }
 ],
 "metadata": {
  "kernelspec": {
   "display_name": "Python 3",
   "language": "python",
   "name": "python3"
  },
  "language_info": {
   "codemirror_mode": {
    "name": "ipython",
    "version": 3
   },
   "file_extension": ".py",
   "mimetype": "text/x-python",
   "name": "python",
   "nbconvert_exporter": "python",
   "pygments_lexer": "ipython3",
   "version": "3.11.3"
  },
  "orig_nbformat": 4
 },
 "nbformat": 4,
 "nbformat_minor": 2
}
