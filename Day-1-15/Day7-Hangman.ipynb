{
 "cells": [
  {
   "cell_type": "code",
   "execution_count": null,
   "metadata": {},
   "outputs": [],
   "source": [
    "import random\n",
    "import Hangman as hang\n",
    "\n",
    "\n",
    "chosen_word = random.choice(hang.word_list)\n",
    "print(hang.logo)\n",
    "print(chosen_word)\n",
    "\n",
    "# chosen_word_list = list(chosen_word)\n",
    "# print(chosen_word_list)\n",
    "display = []\n",
    "word_len = len(chosen_word)\n",
    "\n",
    "for n in range(0,word_len):\n",
    "    display.append(\"_\")\n",
    "\n",
    "print(display)\n",
    "\n",
    "end_of_game = False\n",
    "lives = 6\n",
    "\n",
    "while not end_of_game:\n",
    "\n",
    "    guess = input(\"Guess a word : \").lower()\n",
    "\n",
    "    if guess in display:\n",
    "        print(\"You have already gussed this word\")\n",
    "        # print(display)\n",
    "\n",
    "    for position in range(0,word_len):\n",
    "        if chosen_word[position] == guess:\n",
    "            display[position] = guess\n",
    "    print(display)\n",
    "\n",
    "    if guess not in display:\n",
    "        lives -=1\n",
    "        print(hang.stages[lives])\n",
    " \n",
    "    # We could also use below code\n",
    "    # if \"_\" not in display:\n",
    "    #     user_won = True\n",
    "    if lives == 0:\n",
    "        print(\"User has lost\")\n",
    "        end_of_game = True\n",
    "    elif display == list(chosen_word):\n",
    "        end_of_game = True\n",
    "        print(\"User has won\")\n"
   ]
  }
 ],
 "metadata": {
  "kernelspec": {
   "display_name": "Python 3",
   "language": "python",
   "name": "python3"
  },
  "language_info": {
   "codemirror_mode": {
    "name": "ipython",
    "version": 3
   },
   "file_extension": ".py",
   "mimetype": "text/x-python",
   "name": "python",
   "nbconvert_exporter": "python",
   "pygments_lexer": "ipython3",
   "version": "3.11.3"
  },
  "orig_nbformat": 4
 },
 "nbformat": 4,
 "nbformat_minor": 2
}
