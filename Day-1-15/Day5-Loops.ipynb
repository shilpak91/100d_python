{
 "cells": [
  {
   "cell_type": "code",
   "execution_count": 14,
   "metadata": {},
   "outputs": [
    {
     "name": "stdout",
     "output_type": "stream",
     "text": [
      "['156', '178', '165', '171', '187']\n",
      "171\n"
     ]
    }
   ],
   "source": [
    "student_heights = input(\"Please enter students height\").split()\n",
    "print(student_heights)\n",
    "# print(len(student_heights))\n",
    "total_height=0\n",
    "for n in range(0,len(student_heights)):\n",
    "    # print(int(student_heights[n]))\n",
    "    total_height +=  int(student_heights[n])\n",
    "print(round(total_height/(len(student_heights))))\n"
   ]
  },
  {
   "cell_type": "code",
   "execution_count": 26,
   "metadata": {},
   "outputs": [
    {
     "name": "stdout",
     "output_type": "stream",
     "text": [
      "['156', '178', '165', '171', '187']\n",
      "171\n"
     ]
    }
   ],
   "source": [
    "student_heights = input(\"Please enter students height\").split()\n",
    "print(student_heights)\n",
    "for n in range(0,len(student_heights)):\n",
    "    student_heights[n] = int(student_heights[n])\n",
    "# print(len(student_heights))\n",
    "total_height=sum(student_heights)\n",
    "#print(total_height)\n",
    "print(round(total_height/len(student_heights)))"
   ]
  },
  {
   "cell_type": "code",
   "execution_count": 4,
   "metadata": {},
   "outputs": [
    {
     "name": "stdout",
     "output_type": "stream",
     "text": [
      "['78', '65', '89', '86', '55', '91', '64', '89']\n",
      "[78, 65, 89, 86, 55, 91, 64, 89]\n",
      "the heights score in the class is 91\n"
     ]
    }
   ],
   "source": [
    "student_score = input(\"Input student score\").split()\n",
    "print(student_score)\n",
    "for n in range(0,len(student_score)):\n",
    "    student_score[n] = int(student_score[n])\n",
    "print(student_score)\n",
    "\n",
    "max_score = 0\n",
    "for score in student_score:\n",
    "    if score > max_score:\n",
    "        max_score = score\n",
    "\n",
    "print (f\"The heights score in the class is {max_score}\")"
   ]
  },
  {
   "cell_type": "code",
   "execution_count": 9,
   "metadata": {},
   "outputs": [
    {
     "name": "stdout",
     "output_type": "stream",
     "text": [
      "2550\n"
     ]
    }
   ],
   "source": [
    "total = 0\n",
    "for n in range(2,101,2):\n",
    "    total += n\n",
    "   # print(n)\n",
    "print(total)"
   ]
  },
  {
   "cell_type": "code",
   "execution_count": 12,
   "metadata": {},
   "outputs": [
    {
     "name": "stdout",
     "output_type": "stream",
     "text": [
      "1\n",
      "2\n",
      "Fizz\n",
      "4\n",
      "Buzz\n",
      "Fizz\n",
      "7\n",
      "8\n",
      "Fizz\n",
      "Buzz\n",
      "11\n",
      "Fizz\n",
      "13\n",
      "14\n",
      "FizzBuzz\n",
      "16\n",
      "17\n",
      "Fizz\n",
      "19\n",
      "Buzz\n",
      "Fizz\n",
      "22\n",
      "23\n",
      "Fizz\n",
      "Buzz\n",
      "26\n",
      "Fizz\n",
      "28\n",
      "29\n",
      "FizzBuzz\n",
      "31\n",
      "32\n",
      "Fizz\n",
      "34\n",
      "Buzz\n",
      "Fizz\n",
      "37\n",
      "38\n",
      "Fizz\n",
      "Buzz\n",
      "41\n",
      "Fizz\n",
      "43\n",
      "44\n",
      "FizzBuzz\n",
      "46\n",
      "47\n",
      "Fizz\n",
      "49\n",
      "Buzz\n",
      "Fizz\n",
      "52\n",
      "53\n",
      "Fizz\n",
      "Buzz\n",
      "56\n",
      "Fizz\n",
      "58\n",
      "59\n",
      "FizzBuzz\n",
      "61\n",
      "62\n",
      "Fizz\n",
      "64\n",
      "Buzz\n",
      "Fizz\n",
      "67\n",
      "68\n",
      "Fizz\n",
      "Buzz\n",
      "71\n",
      "Fizz\n",
      "73\n",
      "74\n",
      "FizzBuzz\n",
      "76\n",
      "77\n",
      "Fizz\n",
      "79\n",
      "Buzz\n",
      "Fizz\n",
      "82\n",
      "83\n",
      "Fizz\n",
      "Buzz\n",
      "86\n",
      "Fizz\n",
      "88\n",
      "89\n",
      "FizzBuzz\n",
      "91\n",
      "92\n",
      "Fizz\n",
      "94\n",
      "Buzz\n",
      "Fizz\n",
      "97\n",
      "98\n",
      "Fizz\n",
      "Buzz\n"
     ]
    }
   ],
   "source": [
    "number = 0\n",
    "for n in range(1,101):\n",
    "    if n % 3 == 0 and n % 5 == 0:\n",
    "        print(\"FizzBuzz\")\n",
    "    elif n % 3 == 0:\n",
    "        print(\"Fizz\")\n",
    "    elif n % 5 == 0:\n",
    "        print(\"Buzz\")\n",
    "    else:\n",
    "        print(n)\n",
    "    "
   ]
  },
  {
   "cell_type": "code",
   "execution_count": 1,
   "metadata": {},
   "outputs": [
    {
     "name": "stdout",
     "output_type": "stream",
     "text": [
      "Welcome to the PyPassword Generator!\n",
      "w80Eu)!)bp\n"
     ]
    }
   ],
   "source": [
    "import random\n",
    "letters = ['a', 'b', 'c', 'd', 'e', 'f', 'g', 'h', 'i', 'j', 'k', 'l', 'm', 'n', 'o', 'p', 'q', 'r', 's', 't', 'u', 'v', 'w', 'x', 'y', 'z', 'A', 'B', 'C', 'D', 'E', 'F', 'G', 'H', 'I', 'J', 'K', 'L', 'M', 'N', 'O', 'P', 'Q', 'R', 'S', 'T', 'U', 'V', 'W', 'X', 'Y', 'Z']\n",
    "numbers = ['0', '1', '2', '3', '4', '5', '6', '7', '8', '9']\n",
    "symbols = ['!', '#', '$', '%', '&', '(', ')', '*', '+']\n",
    "\n",
    "print(\"Welcome to the PyPassword Generator!\")\n",
    "nr_letters = int(input(\"How many letters would you like in your password?\\n\")) \n",
    "nr_symbols = int(input(f\"How many symbols would you like?\\n\"))\n",
    "nr_numbers = int(input(f\"How many numbers would you like?\\n\"))\n",
    "\n",
    "temp_password = \"\"\n",
    "password = []\n",
    "pas = \"\"\n",
    "\n",
    "for letter in range(0,nr_letters):\n",
    "    temp_password = random.choice(letters)\n",
    "    password.append(temp_password)\n",
    "    # print(password)\n",
    "\n",
    "for number in range(0,nr_numbers):\n",
    "    temp_password = random.choice(numbers)\n",
    "    password.append(temp_password)\n",
    "    # print(password)\n",
    "\n",
    "for symbol in range(0,nr_symbols):\n",
    "    temp_password = random.choice(symbols)\n",
    "    password.append(temp_password)\n",
    "    # print(password)\n",
    "\n",
    "# print(password)\n",
    "\n",
    "random.shuffle(password)\n",
    "# print(password)\n",
    "for n in password:\n",
    "    pas += n\n",
    "\n",
    "# pas = ''.join(password)\n",
    "print(pas)\n",
    "\n"
   ]
  },
  {
   "cell_type": "code",
   "execution_count": null,
   "metadata": {},
   "outputs": [],
   "source": []
  }
 ],
 "metadata": {
  "kernelspec": {
   "display_name": "Python 3",
   "language": "python",
   "name": "python3"
  },
  "language_info": {
   "codemirror_mode": {
    "name": "ipython",
    "version": 3
   },
   "file_extension": ".py",
   "mimetype": "text/x-python",
   "name": "python",
   "nbconvert_exporter": "python",
   "pygments_lexer": "ipython3",
   "version": "3.11.3"
  },
  "orig_nbformat": 4
 },
 "nbformat": 4,
 "nbformat_minor": 2
}
