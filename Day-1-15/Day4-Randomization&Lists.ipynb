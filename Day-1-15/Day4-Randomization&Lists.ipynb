{
 "cells": [
  {
   "cell_type": "code",
   "execution_count": null,
   "metadata": {},
   "outputs": [],
   "source": [
    "import random\n",
    "toss = random.randint(0,1)\n",
    "if toss == 1:\n",
    "    print(f\"You got heads\")\n",
    "else:\n",
    "    print(\"You got tails\")"
   ]
  },
  {
   "cell_type": "code",
   "execution_count": null,
   "metadata": {},
   "outputs": [],
   "source": [
    "import random\n",
    "names = input(\"Give me everybody's name sperated by a comma\")\n",
    "names_list = names.split(\",\")\n",
    "paid_by = random.choice(names_list)\n",
    "print(f\"bill will be paid by {paid_by}\")"
   ]
  },
  {
   "cell_type": "code",
   "execution_count": null,
   "metadata": {},
   "outputs": [],
   "source": [
    "row1 = [\"a\",\"a\",\"a\"]\n",
    "row2 = [\"a\",\"a\",\"a\"]\n",
    "row3 = [\"a\",\"a\",\"a\"]\n",
    "map = [row1,row2,row3]\n",
    "\n",
    "print(f\"{row1}\\n{row2}\\n{row3}\")\n",
    "position = input(\"where do you want to put the treasure ?\")\n",
    "#print(type(position))\n",
    "split_1 = int(position[0]) - 1\n",
    "split_2 = int(position[1]) - 1\n",
    " \n",
    "#print(f\"{split_1}{split_2}\")\n",
    "map[split_2][split_1] = \"X\"\n",
    "\n",
    "print(\"------------------------\")\n",
    "\n",
    "print(f\"{row1}\\n{row2}\\n{row3}\")\n"
   ]
  },
  {
   "cell_type": "code",
   "execution_count": null,
   "metadata": {},
   "outputs": [],
   "source": [
    "import random\n",
    "user = int(input(\"What do you choose ? Type 0 for rock, 1 for paper or 2 for scissors\"))\n",
    "comp = random.randint(0,2)\n",
    "game = [\"Rock\",\"Paper\",\"Scissors\"]\n",
    "user_choice=game[user]\n",
    "comp_choice = game[comp]\n",
    "\n",
    "print(f\"You choose {user_choice}\")\n",
    "print(f\"Computer choose {comp_choice}\")\n",
    "\n",
    "if user_choice == \"Rock\" and comp_choice == \"Paper\":\n",
    "    print(\"You Loose\")\n",
    "elif user_choice == \"Paper\" and comp_choice == \"Scissors\":\n",
    "    print(\"You Loose\")\n",
    "elif user_choice == \"Scissors\" and comp_choice == \"Rock\":\n",
    "    print(\"You Loose\")\n",
    "elif user_choice == comp_choice:\n",
    "    print(\"Its a Draw\")\n",
    "else:\n",
    "    print(\"You Win !!!\")"
   ]
  }
 ],
 "metadata": {
  "kernelspec": {
   "display_name": "Python 3",
   "language": "python",
   "name": "python3"
  },
  "language_info": {
   "codemirror_mode": {
    "name": "ipython",
    "version": 3
   },
   "file_extension": ".py",
   "mimetype": "text/x-python",
   "name": "python",
   "nbconvert_exporter": "python",
   "pygments_lexer": "ipython3",
   "version": "3.11.3"
  },
  "orig_nbformat": 4
 },
 "nbformat": 4,
 "nbformat_minor": 2
}
